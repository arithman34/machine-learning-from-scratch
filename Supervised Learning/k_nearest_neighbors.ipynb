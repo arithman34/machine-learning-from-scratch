{
 "cells": [
  {
   "cell_type": "code",
   "execution_count": 1,
   "metadata": {},
   "outputs": [],
   "source": [
    "import numpy as np"
   ]
  },
  {
   "cell_type": "code",
   "execution_count": null,
   "metadata": {},
   "outputs": [],
   "source": [
    "class KNN:\n",
    "    def __init__(self, k=5):\n",
    "        self.k = k\n",
    "        self.X = None\n",
    "        self.y = None\n",
    "\n",
    "    @staticmethod\n",
    "    def euclidean_distance(x1, x2):\n",
    "        return np.linalg.norm(x1 - x2, axis=1)\n",
    "    \n",
    "    def fit(self, X, y):\n",
    "        self.X = X\n",
    "        self.y = y\n",
    "\n",
    "    def predict(self, X):\n",
    "        raise NotImplementedError"
   ]
  },
  {
   "cell_type": "code",
   "execution_count": null,
   "metadata": {},
   "outputs": [],
   "source": [
    "class KNNClassifer(KNN):\n",
    "    def predict_proba(self, x):\n",
    "        # Compute the distances vectorized\n",
    "        distances = self.euclidean_distance(self.X, x)\n",
    "\n",
    "        # Sort by ascending order for the first k indices\n",
    "        k_indices = np.argsort(distances)[:self.k]\n",
    "\n",
    "        # Get the target for the k indices\n",
    "        k_y_pred = self.y[k_indices]\n",
    "\n",
    "        # Calculate occurrences of each value\n",
    "        num_classes = np.max(self.y) + 1\n",
    "        class_counts = np.zeros(num_classes)\n",
    "        for y_pred in k_y_pred:\n",
    "            class_counts[y_pred] += 1\n",
    "\n",
    "        # Calculate probabilities\n",
    "        class_probs = class_counts / self.k\n",
    "        return class_probs\n",
    "\n",
    "    def predict(self, X):\n",
    "        y_pred = np.array([np.argmax(self.predict_proba(x)) for x in X])\n",
    "        return y_pred"
   ]
  },
  {
   "cell_type": "code",
   "execution_count": null,
   "metadata": {},
   "outputs": [],
   "source": [
    "class KNNRegressor(KNN):\n",
    "    def predict_single(self, x):\n",
    "        # Compute the distances vectorized\n",
    "        distances = self.euclidean_distance(self.X, x)\n",
    "\n",
    "        # Sort by ascending order for the first k indices\n",
    "        k_indices = np.argsort(distances)[:self.k]\n",
    "\n",
    "        # Get the target values of the k indices\n",
    "        k_y_pred = self.y[k_indices]\n",
    "\n",
    "        # Calculate the mean of the target values (computes the average)\n",
    "        prediction = np.mean(k_y_pred)\n",
    "        return prediction\n",
    "    \n",
    "    def predict(self, X):\n",
    "        y_pred = np.array([self.predict_single(x) for x in X])\n",
    "        return y_pred"
   ]
  }
 ],
 "metadata": {
  "kernelspec": {
   "display_name": "Python 3",
   "language": "python",
   "name": "python3"
  },
  "language_info": {
   "codemirror_mode": {
    "name": "ipython",
    "version": 3
   },
   "file_extension": ".py",
   "mimetype": "text/x-python",
   "name": "python",
   "nbconvert_exporter": "python",
   "pygments_lexer": "ipython3",
   "version": "3.12.1"
  }
 },
 "nbformat": 4,
 "nbformat_minor": 2
}
