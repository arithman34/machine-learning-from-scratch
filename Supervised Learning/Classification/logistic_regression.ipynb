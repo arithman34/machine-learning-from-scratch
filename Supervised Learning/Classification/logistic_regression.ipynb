{
 "cells": [
  {
   "cell_type": "code",
   "execution_count": null,
   "metadata": {},
   "outputs": [],
   "source": [
    "import numpy as np"
   ]
  },
  {
   "cell_type": "code",
   "execution_count": 2,
   "metadata": {},
   "outputs": [],
   "source": [
    "class LogisticRegression:\n",
    "    def __init__(self, max_iter=1000, lr=0.01):\n",
    "        self.weights = None  # Weights\n",
    "        self.bias = None  # Bias\n",
    "        self.J = None  # Cost history\n",
    "        self.lr = lr  # Learning rate\n",
    "        self.max_iter = max_iter  # Max iterations for convergence\n",
    "\n",
    "    @staticmethod\n",
    "    def sigmoid(z):\n",
    "        return 1 / (1 + np.exp(-z))\n",
    "\n",
    "    def fit(self, X, y):\n",
    "        m, n = X.shape  # m is the number of samples, n is the number of features\n",
    "\n",
    "        # Initialise the weights and bias\n",
    "        self.weights = np.zeros(n)\n",
    "        self.bias = 0.0\n",
    "\n",
    "        # Initalise the cost history\n",
    "        self.J = np.zeros(self.max_iter)\n",
    "\n",
    "        # Gradient descent\n",
    "        for i in range(self.max_iter):\n",
    "            # Compute the prediction\n",
    "            z = np.dot(X, self.weights) + self.bias\n",
    "            f_wb = self.sigmoid(z)\n",
    "\n",
    "            # Compute the cost\n",
    "            loss = -y * np.log(f_wb) - (1-y) * np.log(1 - f_wb)  # Compute the loss\n",
    "            J = (1 / m) * np.sum(loss)\n",
    "            self.J[i] = J  # Store in the cost history\n",
    "\n",
    "            # Compute the gradients\n",
    "            dw = (1 / m) * np.dot(X.T, (f_wb - y))\n",
    "            db = (1 / m) * np.sum(f_wb - y)\n",
    "\n",
    "            # Update the parameters\n",
    "            self.weights = self.weights - self.lr * dw\n",
    "            self.bias = self.bias - self.lr * db\n",
    "\n",
    "    def predict_proba(self, X):\n",
    "        return self.sigmoid(np.dot(X, self.weights) + self.bias)\n",
    "\n",
    "    def predict(self, X):\n",
    "        probabilities = self.predict_proba(X)\n",
    "        \n",
    "        return (probabilities >= 0.5).astype(int).flatten()"
   ]
  }
 ],
 "metadata": {
  "kernelspec": {
   "display_name": "Python 3",
   "language": "python",
   "name": "python3"
  },
  "language_info": {
   "codemirror_mode": {
    "name": "ipython",
    "version": 3
   },
   "file_extension": ".py",
   "mimetype": "text/x-python",
   "name": "python",
   "nbconvert_exporter": "python",
   "pygments_lexer": "ipython3",
   "version": "3.12.1"
  }
 },
 "nbformat": 4,
 "nbformat_minor": 2
}
