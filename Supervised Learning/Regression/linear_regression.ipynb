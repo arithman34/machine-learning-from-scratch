{
 "cells": [
  {
   "cell_type": "code",
   "execution_count": 1,
   "id": "5eb713fb-d9ba-458c-a792-9c4a82067dcb",
   "metadata": {},
   "outputs": [],
   "source": [
    "import numpy as np"
   ]
  },
  {
   "cell_type": "code",
   "execution_count": 2,
   "id": "b7955463-a78d-403f-b56c-6380ab2310ca",
   "metadata": {},
   "outputs": [],
   "source": [
    "class LinearRegression:\n",
    "    def __init__(self, iterations=1000, lr=0.01, alpha=0.0):\n",
    "        self.weights = None  # Weights\n",
    "        self.bias = None  # Bias\n",
    "        self.J = None  # Cost history\n",
    "        self.lr = lr  # Learning rate\n",
    "        self.iterations = iterations  # Max iterations for convergence\n",
    "        self.alpha = alpha  # Regularisation term (set alpha to 0 (zero) for no regularisation)\n",
    "\n",
    "    def fit(self, X, y):\n",
    "        m, n = X.shape  # m is the number of samples, n is the number of features\n",
    "\n",
    "        # Initialise the weights and bias\n",
    "        self.weights = np.zeros(n)\n",
    "        self.bias = 0.0\n",
    "\n",
    "        # Initalise the cost history (for visualisation of the learning curve)\n",
    "        self.J = np.zeros(self.iterations)\n",
    "\n",
    "        # Gradient descent\n",
    "        for i in range(self.iterations):\n",
    "            # Compute the prediction\n",
    "            f_wb = np.dot(X, self.weights) + self.bias\n",
    "\n",
    "            # Compute the cost (+ regularlisation)\n",
    "            J = (1 / (2 * m)) * np.sum((f_wb - y) ** 2) + (self.alpha / (2 * m)) * np.sum(self.weights ** 2)\n",
    "            self.J[i] = J  # Store in the cost history\n",
    "            \n",
    "            # Compute the gradients\n",
    "            dw = (1 / m) * np.dot(X.T, (f_wb - y)) + (self.alpha / m) * self.weights\n",
    "            db = (1 / m) * np.sum(f_wb - y)\n",
    "\n",
    "            # Update the parameters\n",
    "            self.weights = self.weights - self.lr * dw\n",
    "            self.bias = self.bias - self.lr * db\n",
    "\n",
    "    def predict(self, X):\n",
    "        return np.dot(X, self.weights) + self.bias"
   ]
  }
 ],
 "metadata": {
  "kernelspec": {
   "display_name": "Python 3 (ipykernel)",
   "language": "python",
   "name": "python3"
  },
  "language_info": {
   "codemirror_mode": {
    "name": "ipython",
    "version": 3
   },
   "file_extension": ".py",
   "mimetype": "text/x-python",
   "name": "python",
   "nbconvert_exporter": "python",
   "pygments_lexer": "ipython3",
   "version": "3.12.1"
  }
 },
 "nbformat": 4,
 "nbformat_minor": 5
}
