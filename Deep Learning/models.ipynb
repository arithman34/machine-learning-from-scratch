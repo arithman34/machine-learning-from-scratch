{
 "cells": [
  {
   "cell_type": "code",
   "execution_count": 7,
   "metadata": {},
   "outputs": [],
   "source": [
    "class Sequential:\n",
    "    def __init__(self, layers=None):\n",
    "        self.layers = layers if layers is not None else []\n",
    "        self.loss = None\n",
    "\n",
    "    def add(self, layer):\n",
    "        # Add a layer\n",
    "        self.layers.append(layer)\n",
    "\n",
    "    def forward(self, inputs):\n",
    "        for layer in self.layers:\n",
    "            inputs = layer.forward_prop(inputs)\n",
    "        return inputs\n",
    "\n",
    "    def backward(self, dvalues):\n",
    "        for layer in reversed(self.layers):\n",
    "            dvalues = layer.backward_prop(dvalues)\n",
    "\n",
    "    def compile(self, loss, optimiser):  # TODO - Add optimisers\n",
    "        raise NotImplementedError()\n",
    "    \n",
    "    def update_params(self, lr):\n",
    "        for layer in self.layers:\n",
    "            layer.W = layer.W - lr * layer.dW\n",
    "            layer.B = layer.B - lr * layer.dB\n",
    "\n",
    "    def fit(self, X, y, epochs=1):\n",
    "        lr = 0.00001\n",
    "        for epoch in range(epochs):\n",
    "            # Forward pass\n",
    "            output = self.forward(X)\n",
    "            \n",
    "            # Compute the loss\n",
    "            loss = binary_cross_entropy_loss(y, output)\n",
    "            \n",
    "            # Compute the gradient of the loss with respect to the output\n",
    "            dvalues = binary_cross_entropy_loss_derivative(y, output)\n",
    "            \n",
    "            # Backward pass\n",
    "            self.backward(dvalues)\n",
    "            \n",
    "            # Update parameters\n",
    "            update_params(self.layers, lr)  # Learning rate has to be very small without an optimiser\n",
    "            \n",
    "            # Print the loss every 100 epochs\n",
    "            if (epoch + 1) % 100 == 0:\n",
    "                print(f\"Epoch {epoch + 1}/{epochs}, Loss: {loss:.4f}\")\n",
    "\n",
    "    def predict(self, X):\n",
    "        # Evaluate the model\n",
    "        return self.forward(X)"
   ]
  }
 ],
 "metadata": {
  "kernelspec": {
   "display_name": "Python 3",
   "language": "python",
   "name": "python3"
  },
  "language_info": {
   "codemirror_mode": {
    "name": "ipython",
    "version": 3
   },
   "file_extension": ".py",
   "mimetype": "text/x-python",
   "name": "python",
   "nbconvert_exporter": "python",
   "pygments_lexer": "ipython3",
   "version": "3.12.1"
  }
 },
 "nbformat": 4,
 "nbformat_minor": 2
}
