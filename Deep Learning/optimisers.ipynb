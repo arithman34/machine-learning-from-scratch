{
 "cells": [
  {
   "cell_type": "code",
   "execution_count": 1,
   "metadata": {},
   "outputs": [],
   "source": [
    "import numpy as np"
   ]
  },
  {
   "cell_type": "code",
   "execution_count": null,
   "metadata": {},
   "outputs": [],
   "source": [
    "class Adam:\n",
    "    def __init__(self, learning_rate=0.001, beta_1=0.9, beta_2=0.99, epsilon=1e-8):\n",
    "        self.learning_rate = learning_rate\n",
    "        self.beta_1 = beta_1\n",
    "        self.beta_2 = beta_2\n",
    "        self.epsilon = epsilon\n",
    "        self.iterations = 0\n",
    "\n",
    "    def update_params(self, layer):\n",
    "        if not hasattr(layer, 'mW'):\n",
    "            layer.mW = np.zeros_like(layer.W)\n",
    "            layer.mB = np.zeros_like(layer.B)\n",
    "\n",
    "            layer.vW = np.zeros_like(layer.W)\n",
    "            layer.vB = np.zeros_like(layer.B)\n",
    "\n",
    "        self.iterations += 1\n",
    "\n",
    "        # Momentum update\n",
    "        layer.mW = self.beta_1 * layer.mW + (1 - self.beta_1) * layer.dW\n",
    "        layer.mB = self.beta_1 * layer.mB + (1 - self.beta_1) * layer.dB\n",
    "\n",
    "        ## RMS update\n",
    "        layer.vW = self.beta_2 * layer.vW + (1 - self.beta_2) * (layer.dW ** 2)\n",
    "        layer.vB = self.beta_2 * layer.vB + (1 - self.beta_2) * (layer.dB ** 2)\n",
    "\n",
    "        # Correct bias\n",
    "        mW_corrected = layer.mW / (1 - self.beta_1 ** self.iterations)\n",
    "        mB_corrected = layer.mB / (1 - self.beta_1 ** self.iterations)\n",
    "\n",
    "        vW_corrected = layer.vW / (1 - self.beta_2 ** self.iterations)\n",
    "        vB_corrected = layer.vB / (1 - self.beta_2 ** self.iterations)\n",
    "\n",
    "        # Update parameters\n",
    "        layer.W -= self.learning_rate * mW_corrected / (np.sqrt(vW_corrected) + self.epsilon)\n",
    "        layer.B -= self.learning_rate * mB_corrected / (np.sqrt(vB_corrected) + self.epsilon)"
   ]
  }
 ],
 "metadata": {
  "kernelspec": {
   "display_name": "Python 3",
   "language": "python",
   "name": "python3"
  },
  "language_info": {
   "codemirror_mode": {
    "name": "ipython",
    "version": 3
   },
   "file_extension": ".py",
   "mimetype": "text/x-python",
   "name": "python",
   "nbconvert_exporter": "python",
   "pygments_lexer": "ipython3",
   "version": "3.12.1"
  }
 },
 "nbformat": 4,
 "nbformat_minor": 2
}
