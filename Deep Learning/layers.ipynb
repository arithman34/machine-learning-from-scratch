{
 "cells": [
  {
   "cell_type": "code",
   "execution_count": 1,
   "metadata": {},
   "outputs": [],
   "source": [
    "import numpy as np"
   ]
  },
  {
   "cell_type": "code",
   "execution_count": 2,
   "metadata": {},
   "outputs": [],
   "source": [
    "class Dense:\n",
    "    def __init__(self, n_units, activation=None):\n",
    "        self.n_units = n_units  # Number of units (neurons) in the layer\n",
    "        self.activation = activation  # Activation function\n",
    "        self.W = None  # Weights\n",
    "        self.B = None  # Bias\n",
    "        self.X = None  # Inputs\n",
    "        self.dW = None  # Weight derivative\n",
    "        self.dB = None  # Bias derivative\n",
    "\n",
    "    def initialise_params(self, input_size):\n",
    "        # Initialise the weights\n",
    "        self.W = np.random.randn(input_size, self.n_units) * 0.01\n",
    "\n",
    "        # Initialise the biases\n",
    "        self.B = np.zeros((1, self.n_units))\n",
    "\n",
    "    def forward_prop(self, X):\n",
    "        # Initialise the parameters\n",
    "        if self.W is None or self.B is None:\n",
    "            self.initialise_params(X.shape[1])\n",
    "\n",
    "        # Store input for backward propagation\n",
    "        self.X = X\n",
    "        \n",
    "        # Compute the linear output\n",
    "        Z = np.dot(X, self.W) + self.B\n",
    "\n",
    "        # If activiation function is set get the output\n",
    "        if self.activation is not None:\n",
    "            return self.activation(Z)\n",
    "        return Z\n",
    "    \n",
    "    def backward_prop(self, dvalues):\n",
    "        # Compute the gradients\n",
    "        self.dW = np.dot(self.X.T, dvalues)\n",
    "        self.dB = np.sum(dvalues, axis=0, keepdims=True)\n",
    "        \n",
    "        # Gradient on the values\n",
    "        self.dinputs = np.dot(dvalues, self.W.T)\n",
    "        return self.dinputs"
   ]
  }
 ],
 "metadata": {
  "kernelspec": {
   "display_name": "Python 3",
   "language": "python",
   "name": "python3"
  },
  "language_info": {
   "codemirror_mode": {
    "name": "ipython",
    "version": 3
   },
   "file_extension": ".py",
   "mimetype": "text/x-python",
   "name": "python",
   "nbconvert_exporter": "python",
   "pygments_lexer": "ipython3",
   "version": "3.12.1"
  }
 },
 "nbformat": 4,
 "nbformat_minor": 2
}
