{
 "cells": [
  {
   "cell_type": "code",
   "execution_count": 31,
   "metadata": {},
   "outputs": [],
   "source": [
    "import numpy as np"
   ]
  },
  {
   "cell_type": "code",
   "execution_count": 32,
   "metadata": {},
   "outputs": [],
   "source": [
    "class GaussianAnomalyDetector:\n",
    "    def __init__(self, threshold):\n",
    "        self.threshold = threshold\n",
    "        self.mean = None\n",
    "        self.variance = None\n",
    "\n",
    "    def fit(self, X):\n",
    "        self.mean = np.mean(X, axis=0)\n",
    "        self.variance = np.var(X, axis=0)\n",
    "\n",
    "    def gaussian_pdf(self, X):  # Gaussian Probability Density Function\n",
    "        coefficient  = 1 / (np.sqrt(2 * np.pi * self.variance))\n",
    "        exp_term = np.exp(-(X - self.mean) ** 2 / (2 * self.variance))\n",
    "\n",
    "        return np.prod(coefficient  * exp_term, axis=1)\n",
    "\n",
    "    def predict(self, X):        \n",
    "        p = self.gaussian_pdf(X)\n",
    "        return p < self.threshold"
   ]
  }
 ],
 "metadata": {
  "kernelspec": {
   "display_name": "Python 3",
   "language": "python",
   "name": "python3"
  },
  "language_info": {
   "codemirror_mode": {
    "name": "ipython",
    "version": 3
   },
   "file_extension": ".py",
   "mimetype": "text/x-python",
   "name": "python",
   "nbconvert_exporter": "python",
   "pygments_lexer": "ipython3",
   "version": "3.12.1"
  }
 },
 "nbformat": 4,
 "nbformat_minor": 2
}
